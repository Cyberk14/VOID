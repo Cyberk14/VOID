{
 "cells": [
  {
   "cell_type": "code",
   "execution_count": null,
   "metadata": {},
   "outputs": [],
   "source": [
    "import json\n",
    "import requests\n",
    "from typing import List"
   ]
  },
  {
   "cell_type": "code",
   "execution_count": null,
   "id": "67fbb44d",
   "metadata": {},
   "outputs": [],
   "source": [
    "pygame.mixer.init()\n",
    "    # \n",
    "    # audio_stream.seek(0)  # Make sure the stream is at the beginning\n",
    "    pygame.mixer.music.load(\"D:\\\\New folder\\\\VOID\\\\output.mp3\", \"mp3\")\n",
    "\n",
    "    pygame.mixer.music.play()\n",
    "\n",
    "    # Use a ticker to prevent high CPU usage\n",
    "    clock = pygame.time.Clock()\n",
    "\n",
    "    while pygame.mixer.music.get_busy():\n",
    "        clock.tick(1)  # Adjust the tick rate as needed\n",
    "\n",
    "        print('---------------------')\n",
    "        \n",
    "\n",
    "    print(\"done\")\n",
    "    pygame.mixer.quit()\n",
    "    pygame.quit()"
   ]
  }
 ],
 "metadata": {
  "kernelspec": {
   "display_name": "venv",
   "language": "python",
   "name": "python3"
  },
  "language_info": {
   "name": "python",
   "version": "3.11.9"
  }
 },
 "nbformat": 4,
 "nbformat_minor": 5
}
